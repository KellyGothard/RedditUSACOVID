{
 "cells": [
  {
   "cell_type": "code",
   "execution_count": 2,
   "metadata": {
    "ExecuteTime": {
     "end_time": "2020-04-16T17:44:48.697076Z",
     "start_time": "2020-04-16T17:44:48.441816Z"
    }
   },
   "outputs": [],
   "source": [
    "import pandas as pd\n",
    "import matplotlib.pyplot as plt"
   ]
  },
  {
   "cell_type": "code",
   "execution_count": 3,
   "metadata": {
    "ExecuteTime": {
     "end_time": "2020-04-16T17:44:48.711763Z",
     "start_time": "2020-04-16T17:44:48.698030Z"
    }
   },
   "outputs": [],
   "source": [
    "m_reports = pd.read_csv('../data/mobility_data/mobility_reports.csv')"
   ]
  },
  {
   "cell_type": "code",
   "execution_count": 4,
   "metadata": {
    "ExecuteTime": {
     "end_time": "2020-04-16T17:44:48.827044Z",
     "start_time": "2020-04-16T17:44:48.815539Z"
    }
   },
   "outputs": [],
   "source": [
    "m_reports.set_index(['region','subregion'],inplace=True)"
   ]
  },
  {
   "cell_type": "code",
   "execution_count": 5,
   "metadata": {
    "ExecuteTime": {
     "end_time": "2020-04-16T17:44:49.305779Z",
     "start_time": "2020-04-16T17:44:49.286148Z"
    }
   },
   "outputs": [
    {
     "data": {
      "text/html": [
       "<div>\n",
       "<style scoped>\n",
       "    .dataframe tbody tr th:only-of-type {\n",
       "        vertical-align: middle;\n",
       "    }\n",
       "\n",
       "    .dataframe tbody tr th {\n",
       "        vertical-align: top;\n",
       "    }\n",
       "\n",
       "    .dataframe thead th {\n",
       "        text-align: right;\n",
       "    }\n",
       "</style>\n",
       "<table border=\"1\" class=\"dataframe\">\n",
       "  <thead>\n",
       "    <tr style=\"text-align: right;\">\n",
       "      <th></th>\n",
       "      <th></th>\n",
       "      <th>updated_at</th>\n",
       "      <th>retail_and_recreation</th>\n",
       "      <th>grocery_and_pharmacy</th>\n",
       "      <th>parks</th>\n",
       "      <th>transit_stations</th>\n",
       "      <th>workplaces</th>\n",
       "      <th>residential</th>\n",
       "      <th>retail_and_recreation_not_enough_data</th>\n",
       "      <th>grocery_and_pharmacy_not_enough_data</th>\n",
       "      <th>parks_not_enough_data</th>\n",
       "      <th>transit_stations_not_enough_data</th>\n",
       "      <th>workplaces_not_enough_data</th>\n",
       "      <th>residential_not_enough_data</th>\n",
       "    </tr>\n",
       "    <tr>\n",
       "      <th>region</th>\n",
       "      <th>subregion</th>\n",
       "      <th></th>\n",
       "      <th></th>\n",
       "      <th></th>\n",
       "      <th></th>\n",
       "      <th></th>\n",
       "      <th></th>\n",
       "      <th></th>\n",
       "      <th></th>\n",
       "      <th></th>\n",
       "      <th></th>\n",
       "      <th></th>\n",
       "      <th></th>\n",
       "      <th></th>\n",
       "    </tr>\n",
       "  </thead>\n",
       "  <tbody>\n",
       "    <tr>\n",
       "      <th rowspan=\"3\" valign=\"top\">Afghanistan</th>\n",
       "      <th>NaN</th>\n",
       "      <td>2020-03-29</td>\n",
       "      <td>-0.38</td>\n",
       "      <td>-0.21</td>\n",
       "      <td>-0.13</td>\n",
       "      <td>-0.34</td>\n",
       "      <td>-0.33</td>\n",
       "      <td>0.10</td>\n",
       "      <td>NaN</td>\n",
       "      <td>NaN</td>\n",
       "      <td>NaN</td>\n",
       "      <td>NaN</td>\n",
       "      <td>NaN</td>\n",
       "      <td>NaN</td>\n",
       "    </tr>\n",
       "    <tr>\n",
       "      <th>NaN</th>\n",
       "      <td>2020-04-05</td>\n",
       "      <td>-0.45</td>\n",
       "      <td>-0.22</td>\n",
       "      <td>-0.13</td>\n",
       "      <td>-0.36</td>\n",
       "      <td>-0.38</td>\n",
       "      <td>0.12</td>\n",
       "      <td>NaN</td>\n",
       "      <td>NaN</td>\n",
       "      <td>NaN</td>\n",
       "      <td>NaN</td>\n",
       "      <td>NaN</td>\n",
       "      <td>NaN</td>\n",
       "    </tr>\n",
       "    <tr>\n",
       "      <th>NaN</th>\n",
       "      <td>2020-04-11</td>\n",
       "      <td>-0.46</td>\n",
       "      <td>-0.32</td>\n",
       "      <td>-0.12</td>\n",
       "      <td>-0.50</td>\n",
       "      <td>-0.38</td>\n",
       "      <td>0.16</td>\n",
       "      <td>NaN</td>\n",
       "      <td>NaN</td>\n",
       "      <td>NaN</td>\n",
       "      <td>NaN</td>\n",
       "      <td>NaN</td>\n",
       "      <td>NaN</td>\n",
       "    </tr>\n",
       "    <tr>\n",
       "      <th rowspan=\"2\" valign=\"top\">Alabama</th>\n",
       "      <th>NaN</th>\n",
       "      <td>2020-03-29</td>\n",
       "      <td>-0.41</td>\n",
       "      <td>-0.13</td>\n",
       "      <td>0.19</td>\n",
       "      <td>-0.30</td>\n",
       "      <td>-0.32</td>\n",
       "      <td>0.09</td>\n",
       "      <td>NaN</td>\n",
       "      <td>NaN</td>\n",
       "      <td>NaN</td>\n",
       "      <td>NaN</td>\n",
       "      <td>NaN</td>\n",
       "      <td>NaN</td>\n",
       "    </tr>\n",
       "    <tr>\n",
       "      <th>NaN</th>\n",
       "      <td>2020-04-05</td>\n",
       "      <td>-0.50</td>\n",
       "      <td>-0.18</td>\n",
       "      <td>-0.01</td>\n",
       "      <td>-0.40</td>\n",
       "      <td>-0.36</td>\n",
       "      <td>0.12</td>\n",
       "      <td>NaN</td>\n",
       "      <td>NaN</td>\n",
       "      <td>NaN</td>\n",
       "      <td>NaN</td>\n",
       "      <td>NaN</td>\n",
       "      <td>NaN</td>\n",
       "    </tr>\n",
       "    <tr>\n",
       "      <th>...</th>\n",
       "      <th>...</th>\n",
       "      <td>...</td>\n",
       "      <td>...</td>\n",
       "      <td>...</td>\n",
       "      <td>...</td>\n",
       "      <td>...</td>\n",
       "      <td>...</td>\n",
       "      <td>...</td>\n",
       "      <td>...</td>\n",
       "      <td>...</td>\n",
       "      <td>...</td>\n",
       "      <td>...</td>\n",
       "      <td>...</td>\n",
       "      <td>...</td>\n",
       "    </tr>\n",
       "    <tr>\n",
       "      <th rowspan=\"2\" valign=\"top\">Zambia</th>\n",
       "      <th>NaN</th>\n",
       "      <td>2020-04-05</td>\n",
       "      <td>-0.24</td>\n",
       "      <td>-0.12</td>\n",
       "      <td>-0.06</td>\n",
       "      <td>-0.28</td>\n",
       "      <td>-0.01</td>\n",
       "      <td>0.11</td>\n",
       "      <td>NaN</td>\n",
       "      <td>NaN</td>\n",
       "      <td>NaN</td>\n",
       "      <td>NaN</td>\n",
       "      <td>NaN</td>\n",
       "      <td>NaN</td>\n",
       "    </tr>\n",
       "    <tr>\n",
       "      <th>NaN</th>\n",
       "      <td>2020-04-11</td>\n",
       "      <td>-0.26</td>\n",
       "      <td>-0.16</td>\n",
       "      <td>-0.04</td>\n",
       "      <td>-0.28</td>\n",
       "      <td>-0.16</td>\n",
       "      <td>0.13</td>\n",
       "      <td>NaN</td>\n",
       "      <td>NaN</td>\n",
       "      <td>NaN</td>\n",
       "      <td>NaN</td>\n",
       "      <td>NaN</td>\n",
       "      <td>NaN</td>\n",
       "    </tr>\n",
       "    <tr>\n",
       "      <th rowspan=\"3\" valign=\"top\">Zimbabwe</th>\n",
       "      <th>NaN</th>\n",
       "      <td>2020-03-29</td>\n",
       "      <td>-0.02</td>\n",
       "      <td>0.24</td>\n",
       "      <td>-0.04</td>\n",
       "      <td>-0.06</td>\n",
       "      <td>0.14</td>\n",
       "      <td>0.13</td>\n",
       "      <td>NaN</td>\n",
       "      <td>NaN</td>\n",
       "      <td>NaN</td>\n",
       "      <td>NaN</td>\n",
       "      <td>NaN</td>\n",
       "      <td>NaN</td>\n",
       "    </tr>\n",
       "    <tr>\n",
       "      <th>NaN</th>\n",
       "      <td>2020-04-05</td>\n",
       "      <td>-0.63</td>\n",
       "      <td>-0.53</td>\n",
       "      <td>-0.47</td>\n",
       "      <td>-0.77</td>\n",
       "      <td>-0.36</td>\n",
       "      <td>0.32</td>\n",
       "      <td>NaN</td>\n",
       "      <td>NaN</td>\n",
       "      <td>NaN</td>\n",
       "      <td>NaN</td>\n",
       "      <td>NaN</td>\n",
       "      <td>NaN</td>\n",
       "    </tr>\n",
       "    <tr>\n",
       "      <th>NaN</th>\n",
       "      <td>2020-04-11</td>\n",
       "      <td>-0.69</td>\n",
       "      <td>-0.56</td>\n",
       "      <td>-0.48</td>\n",
       "      <td>-0.81</td>\n",
       "      <td>-0.58</td>\n",
       "      <td>0.36</td>\n",
       "      <td>NaN</td>\n",
       "      <td>NaN</td>\n",
       "      <td>NaN</td>\n",
       "      <td>NaN</td>\n",
       "      <td>NaN</td>\n",
       "      <td>NaN</td>\n",
       "    </tr>\n",
       "  </tbody>\n",
       "</table>\n",
       "<p>11830 rows × 13 columns</p>\n",
       "</div>"
      ],
      "text/plain": [
       "                       updated_at  retail_and_recreation  \\\n",
       "region      subregion                                      \n",
       "Afghanistan NaN        2020-03-29                  -0.38   \n",
       "            NaN        2020-04-05                  -0.45   \n",
       "            NaN        2020-04-11                  -0.46   \n",
       "Alabama     NaN        2020-03-29                  -0.41   \n",
       "            NaN        2020-04-05                  -0.50   \n",
       "...                           ...                    ...   \n",
       "Zambia      NaN        2020-04-05                  -0.24   \n",
       "            NaN        2020-04-11                  -0.26   \n",
       "Zimbabwe    NaN        2020-03-29                  -0.02   \n",
       "            NaN        2020-04-05                  -0.63   \n",
       "            NaN        2020-04-11                  -0.69   \n",
       "\n",
       "                       grocery_and_pharmacy  parks  transit_stations  \\\n",
       "region      subregion                                                  \n",
       "Afghanistan NaN                       -0.21  -0.13             -0.34   \n",
       "            NaN                       -0.22  -0.13             -0.36   \n",
       "            NaN                       -0.32  -0.12             -0.50   \n",
       "Alabama     NaN                       -0.13   0.19             -0.30   \n",
       "            NaN                       -0.18  -0.01             -0.40   \n",
       "...                                     ...    ...               ...   \n",
       "Zambia      NaN                       -0.12  -0.06             -0.28   \n",
       "            NaN                       -0.16  -0.04             -0.28   \n",
       "Zimbabwe    NaN                        0.24  -0.04             -0.06   \n",
       "            NaN                       -0.53  -0.47             -0.77   \n",
       "            NaN                       -0.56  -0.48             -0.81   \n",
       "\n",
       "                       workplaces  residential  \\\n",
       "region      subregion                            \n",
       "Afghanistan NaN             -0.33         0.10   \n",
       "            NaN             -0.38         0.12   \n",
       "            NaN             -0.38         0.16   \n",
       "Alabama     NaN             -0.32         0.09   \n",
       "            NaN             -0.36         0.12   \n",
       "...                           ...          ...   \n",
       "Zambia      NaN             -0.01         0.11   \n",
       "            NaN             -0.16         0.13   \n",
       "Zimbabwe    NaN              0.14         0.13   \n",
       "            NaN             -0.36         0.32   \n",
       "            NaN             -0.58         0.36   \n",
       "\n",
       "                      retail_and_recreation_not_enough_data  \\\n",
       "region      subregion                                         \n",
       "Afghanistan NaN                                         NaN   \n",
       "            NaN                                         NaN   \n",
       "            NaN                                         NaN   \n",
       "Alabama     NaN                                         NaN   \n",
       "            NaN                                         NaN   \n",
       "...                                                     ...   \n",
       "Zambia      NaN                                         NaN   \n",
       "            NaN                                         NaN   \n",
       "Zimbabwe    NaN                                         NaN   \n",
       "            NaN                                         NaN   \n",
       "            NaN                                         NaN   \n",
       "\n",
       "                      grocery_and_pharmacy_not_enough_data  \\\n",
       "region      subregion                                        \n",
       "Afghanistan NaN                                        NaN   \n",
       "            NaN                                        NaN   \n",
       "            NaN                                        NaN   \n",
       "Alabama     NaN                                        NaN   \n",
       "            NaN                                        NaN   \n",
       "...                                                    ...   \n",
       "Zambia      NaN                                        NaN   \n",
       "            NaN                                        NaN   \n",
       "Zimbabwe    NaN                                        NaN   \n",
       "            NaN                                        NaN   \n",
       "            NaN                                        NaN   \n",
       "\n",
       "                      parks_not_enough_data transit_stations_not_enough_data  \\\n",
       "region      subregion                                                          \n",
       "Afghanistan NaN                         NaN                              NaN   \n",
       "            NaN                         NaN                              NaN   \n",
       "            NaN                         NaN                              NaN   \n",
       "Alabama     NaN                         NaN                              NaN   \n",
       "            NaN                         NaN                              NaN   \n",
       "...                                     ...                              ...   \n",
       "Zambia      NaN                         NaN                              NaN   \n",
       "            NaN                         NaN                              NaN   \n",
       "Zimbabwe    NaN                         NaN                              NaN   \n",
       "            NaN                         NaN                              NaN   \n",
       "            NaN                         NaN                              NaN   \n",
       "\n",
       "                      workplaces_not_enough_data residential_not_enough_data  \n",
       "region      subregion                                                         \n",
       "Afghanistan NaN                              NaN                         NaN  \n",
       "            NaN                              NaN                         NaN  \n",
       "            NaN                              NaN                         NaN  \n",
       "Alabama     NaN                              NaN                         NaN  \n",
       "            NaN                              NaN                         NaN  \n",
       "...                                          ...                         ...  \n",
       "Zambia      NaN                              NaN                         NaN  \n",
       "            NaN                              NaN                         NaN  \n",
       "Zimbabwe    NaN                              NaN                         NaN  \n",
       "            NaN                              NaN                         NaN  \n",
       "            NaN                              NaN                         NaN  \n",
       "\n",
       "[11830 rows x 13 columns]"
      ]
     },
     "execution_count": 5,
     "metadata": {},
     "output_type": "execute_result"
    }
   ],
   "source": [
    "m_reports"
   ]
  },
  {
   "cell_type": "markdown",
   "metadata": {},
   "source": [
    "### Retail and Rec changes"
   ]
  },
  {
   "cell_type": "code",
   "execution_count": 6,
   "metadata": {
    "ExecuteTime": {
     "end_time": "2020-04-16T17:44:50.880805Z",
     "start_time": "2020-04-16T17:44:50.864612Z"
    }
   },
   "outputs": [],
   "source": [
    "m_reports_rec = m_reports.pivot_table(index=['region','subregion'], columns = 'updated_at', values = 'retail_and_recreation')"
   ]
  },
  {
   "cell_type": "code",
   "execution_count": 7,
   "metadata": {
    "ExecuteTime": {
     "end_time": "2020-04-16T17:44:53.236105Z",
     "start_time": "2020-04-16T17:44:53.224320Z"
    }
   },
   "outputs": [
    {
     "data": {
      "text/html": [
       "<div>\n",
       "<style scoped>\n",
       "    .dataframe tbody tr th:only-of-type {\n",
       "        vertical-align: middle;\n",
       "    }\n",
       "\n",
       "    .dataframe tbody tr th {\n",
       "        vertical-align: top;\n",
       "    }\n",
       "\n",
       "    .dataframe thead th {\n",
       "        text-align: right;\n",
       "    }\n",
       "</style>\n",
       "<table border=\"1\" class=\"dataframe\">\n",
       "  <thead>\n",
       "    <tr style=\"text-align: right;\">\n",
       "      <th></th>\n",
       "      <th>updated_at</th>\n",
       "      <th>2020-03-29</th>\n",
       "      <th>2020-04-05</th>\n",
       "      <th>2020-04-11</th>\n",
       "    </tr>\n",
       "    <tr>\n",
       "      <th>region</th>\n",
       "      <th>subregion</th>\n",
       "      <th></th>\n",
       "      <th></th>\n",
       "      <th></th>\n",
       "    </tr>\n",
       "  </thead>\n",
       "  <tbody>\n",
       "    <tr>\n",
       "      <th rowspan=\"5\" valign=\"top\">Alabama</th>\n",
       "      <th>Autauga County</th>\n",
       "      <td>-0.42</td>\n",
       "      <td>-0.53</td>\n",
       "      <td>-0.37</td>\n",
       "    </tr>\n",
       "    <tr>\n",
       "      <th>Baldwin County</th>\n",
       "      <td>-0.47</td>\n",
       "      <td>-0.55</td>\n",
       "      <td>-0.44</td>\n",
       "    </tr>\n",
       "    <tr>\n",
       "      <th>Barbour County</th>\n",
       "      <td>-0.27</td>\n",
       "      <td>-0.40</td>\n",
       "      <td>-0.18</td>\n",
       "    </tr>\n",
       "    <tr>\n",
       "      <th>Bibb County</th>\n",
       "      <td>-0.25</td>\n",
       "      <td>-0.42</td>\n",
       "      <td>-0.42</td>\n",
       "    </tr>\n",
       "    <tr>\n",
       "      <th>Blount County</th>\n",
       "      <td>-0.36</td>\n",
       "      <td>-0.49</td>\n",
       "      <td>-0.20</td>\n",
       "    </tr>\n",
       "    <tr>\n",
       "      <th>...</th>\n",
       "      <th>...</th>\n",
       "      <td>...</td>\n",
       "      <td>...</td>\n",
       "      <td>...</td>\n",
       "    </tr>\n",
       "    <tr>\n",
       "      <th rowspan=\"5\" valign=\"top\">Wyoming</th>\n",
       "      <th>Sublette County</th>\n",
       "      <td>-0.70</td>\n",
       "      <td>-0.70</td>\n",
       "      <td>-0.70</td>\n",
       "    </tr>\n",
       "    <tr>\n",
       "      <th>Sweetwater County</th>\n",
       "      <td>-0.33</td>\n",
       "      <td>-0.38</td>\n",
       "      <td>-0.35</td>\n",
       "    </tr>\n",
       "    <tr>\n",
       "      <th>Uinta County</th>\n",
       "      <td>-0.29</td>\n",
       "      <td>-0.31</td>\n",
       "      <td>-0.31</td>\n",
       "    </tr>\n",
       "    <tr>\n",
       "      <th>Washakie County</th>\n",
       "      <td>-0.17</td>\n",
       "      <td>-0.28</td>\n",
       "      <td>-0.28</td>\n",
       "    </tr>\n",
       "    <tr>\n",
       "      <th>Weston County</th>\n",
       "      <td>-0.57</td>\n",
       "      <td>-0.57</td>\n",
       "      <td>-0.57</td>\n",
       "    </tr>\n",
       "  </tbody>\n",
       "</table>\n",
       "<p>3717 rows × 3 columns</p>\n",
       "</div>"
      ],
      "text/plain": [
       "updated_at                 2020-03-29  2020-04-05  2020-04-11\n",
       "region  subregion                                            \n",
       "Alabama Autauga County          -0.42       -0.53       -0.37\n",
       "        Baldwin County          -0.47       -0.55       -0.44\n",
       "        Barbour County          -0.27       -0.40       -0.18\n",
       "        Bibb County             -0.25       -0.42       -0.42\n",
       "        Blount County           -0.36       -0.49       -0.20\n",
       "...                               ...         ...         ...\n",
       "Wyoming Sublette County         -0.70       -0.70       -0.70\n",
       "        Sweetwater County       -0.33       -0.38       -0.35\n",
       "        Uinta County            -0.29       -0.31       -0.31\n",
       "        Washakie County         -0.17       -0.28       -0.28\n",
       "        Weston County           -0.57       -0.57       -0.57\n",
       "\n",
       "[3717 rows x 3 columns]"
      ]
     },
     "execution_count": 7,
     "metadata": {},
     "output_type": "execute_result"
    }
   ],
   "source": [
    "m_reports_rec"
   ]
  },
  {
   "cell_type": "code",
   "execution_count": 8,
   "metadata": {
    "ExecuteTime": {
     "end_time": "2020-04-16T17:44:53.764110Z",
     "start_time": "2020-04-16T17:44:53.572960Z"
    }
   },
   "outputs": [
    {
     "data": {
      "text/plain": [
       "<matplotlib.lines.Line2D at 0x7efbb429b048>"
      ]
     },
     "execution_count": 8,
     "metadata": {},
     "output_type": "execute_result"
    },
    {
     "data": {
      "image/png": "[encoded data removed]",
      "text/plain": [
       "<Figure size 432x288 with 1 Axes>"
      ]
     },
     "metadata": {
      "needs_background": "light"
     },
     "output_type": "display_data"
    }
   ],
   "source": [
    "plt.hist((m_reports_rec.iloc[:,1] - m_reports_rec.iloc[:,0]).dropna().values, bins='auto');\n",
    "plt.axvline(0,color='r')"
   ]
  },
  {
   "cell_type": "markdown",
   "metadata": {},
   "source": [
    "### Parks"
   ]
  },
  {
   "cell_type": "code",
   "execution_count": 9,
   "metadata": {
    "ExecuteTime": {
     "end_time": "2020-04-16T17:44:55.382366Z",
     "start_time": "2020-04-16T17:44:55.367899Z"
    }
   },
   "outputs": [],
   "source": [
    "m_reports_res = m_reports.pivot_table(index=['region','subregion'], columns = 'updated_at', values = 'parks')"
   ]
  },
  {
   "cell_type": "code",
   "execution_count": 10,
   "metadata": {
    "ExecuteTime": {
     "end_time": "2020-04-16T17:44:55.806731Z",
     "start_time": "2020-04-16T17:44:55.656640Z"
    }
   },
   "outputs": [
    {
     "data": {
      "text/plain": [
       "<matplotlib.lines.Line2D at 0x7efbae1419b0>"
      ]
     },
     "execution_count": 10,
     "metadata": {},
     "output_type": "execute_result"
    },
    {
     "data": {
      "image/png": "[encoded data removed]",
      "text/plain": [
       "<Figure size 432x288 with 1 Axes>"
      ]
     },
     "metadata": {
      "needs_background": "light"
     },
     "output_type": "display_data"
    }
   ],
   "source": [
    "plt.hist((m_reports_res.iloc[:,1] - m_reports_res.iloc[:,0]).dropna().values, bins='auto');\n",
    "plt.axvline(0,color='r')"
   ]
  },
  {
   "cell_type": "code",
   "execution_count": null,
   "metadata": {},
   "outputs": [],
   "source": []
  },
  {
   "cell_type": "code",
   "execution_count": null,
   "metadata": {},
   "outputs": [],
   "source": []
  }
 ],
 "metadata": {
  "kernelspec": {
   "display_name": "Python 3",
   "language": "python",
   "name": "python3"
  },
  "language_info": {
   "codemirror_mode": {
    "name": "ipython",
    "version": 3
   },
   "file_extension": ".py",
   "mimetype": "text/x-python",
   "name": "python",
   "nbconvert_exporter": "python",
   "pygments_lexer": "ipython3",
   "version": "3.7.3"
  },
  "toc": {
   "base_numbering": 1,
   "nav_menu": {},
   "number_sections": true,
   "sideBar": true,
   "skip_h1_title": false,
   "title_cell": "Table of Contents",
   "title_sidebar": "Contents",
   "toc_cell": false,
   "toc_position": {},
   "toc_section_display": true,
   "toc_window_display": false
  }
 },
 "nbformat": 4,
 "nbformat_minor": 2
}
