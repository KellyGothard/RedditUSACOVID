{
 "cells": [
  {
   "cell_type": "code",
   "execution_count": 1,
   "metadata": {
    "ExecuteTime": {
     "end_time": "2020-05-04T19:42:46.719929Z",
     "start_time": "2020-05-04T19:42:46.473565Z"
    }
   },
   "outputs": [],
   "source": [
    "import pandas as pd\n",
    "import matplotlib.pyplot as plt\n",
    "import numpy as np\n",
    "from pprint import pprint\n",
    "import sys\n",
    "from pathlib import Path"
   ]
  },
  {
   "cell_type": "code",
   "execution_count": 2,
   "metadata": {
    "ExecuteTime": {
     "end_time": "2020-05-04T19:42:46.722605Z",
     "start_time": "2020-05-04T19:42:46.720908Z"
    }
   },
   "outputs": [],
   "source": [
    "sys.path.append('/home/hereford/Projects/zipf_tools/src/')"
   ]
  },
  {
   "cell_type": "code",
   "execution_count": 3,
   "metadata": {
    "ExecuteTime": {
     "end_time": "2020-05-04T19:42:46.822553Z",
     "start_time": "2020-05-04T19:42:46.723622Z"
    }
   },
   "outputs": [],
   "source": [
    "from zipf_calculations import WordCount as WC"
   ]
  },
  {
   "cell_type": "code",
   "execution_count": 4,
   "metadata": {
    "ExecuteTime": {
     "end_time": "2020-05-04T19:42:46.826132Z",
     "start_time": "2020-05-04T19:42:46.823499Z"
    }
   },
   "outputs": [
    {
     "data": {
      "text/plain": [
       "zipf_calculations.WordCount"
      ]
     },
     "execution_count": 4,
     "metadata": {},
     "output_type": "execute_result"
    }
   ],
   "source": [
    "WC"
   ]
  },
  {
   "cell_type": "markdown",
   "metadata": {},
   "source": [
    "# Import Zipfs"
   ]
  },
  {
   "cell_type": "code",
   "execution_count": 31,
   "metadata": {
    "ExecuteTime": {
     "end_time": "2020-05-04T21:18:38.229063Z",
     "start_time": "2020-05-04T21:18:38.226206Z"
    }
   },
   "outputs": [],
   "source": [
    "reddit2apple = {'NYC':'New York City',\n",
    "                'LosAngeles':'Los Angeles',\n",
    "                'Boston':'Boston',\n",
    "                'Chicago':'Chicago',\n",
    "                'Atlanta':'Atlanta'}"
   ]
  },
  {
   "cell_type": "code",
   "execution_count": null,
   "metadata": {},
   "outputs": [],
   "source": [
    "['New York City', 'Los Angeles', 'Boston', 'Chicago', 'Atlanta']"
   ]
  },
  {
   "cell_type": "code",
   "execution_count": 32,
   "metadata": {
    "ExecuteTime": {
     "end_time": "2020-05-04T21:18:42.465525Z",
     "start_time": "2020-05-04T21:18:40.161598Z"
    },
    "scrolled": true
   },
   "outputs": [
    {
     "name": "stdout",
     "output_type": "stream",
     "text": [
      "S1 2019-12-31\n",
      "S1 2020-01-01\n",
      "S1 2020-01-02\n",
      "S1 2020-01-03\n",
      "S1 2020-01-04\n",
      "S1 2020-01-05\n",
      "S1 2020-01-06\n",
      "S2 2020-03-24\n",
      "S2 2020-03-25\n",
      "S2 2020-03-26\n",
      "S2 2020-03-27\n",
      "S2 2020-03-28\n",
      "S2 2020-03-29\n",
      "S1 2019-12-31\n",
      "S1 2020-01-01\n",
      "S1 2020-01-02\n",
      "S1 2020-01-03\n",
      "S1 2020-01-04\n",
      "S1 2020-01-05\n",
      "S1 2020-01-06\n",
      "S2 2020-03-24\n",
      "S2 2020-03-25\n",
      "S2 2020-03-26\n",
      "S2 2020-03-27\n",
      "S2 2020-03-28\n",
      "S2 2020-03-29\n",
      "S1 2019-12-31\n",
      "S1 2020-01-01\n",
      "S1 2020-01-02\n",
      "S1 2020-01-03\n",
      "S1 2020-01-04\n",
      "S1 2020-01-05\n",
      "S1 2020-01-06\n",
      "S2 2020-03-24\n",
      "S2 2020-03-25\n",
      "S2 2020-03-26\n",
      "S2 2020-03-27\n",
      "S2 2020-03-28\n",
      "S2 2020-03-29\n",
      "S1 2019-12-31\n",
      "S1 2020-01-01\n",
      "S1 2020-01-02\n",
      "S1 2020-01-03\n",
      "S1 2020-01-04\n",
      "S1 2020-01-05\n",
      "S1 2020-01-06\n",
      "S2 2020-03-24\n",
      "S2 2020-03-25\n",
      "S2 2020-03-26\n",
      "S2 2020-03-27\n",
      "S2 2020-03-28\n",
      "S2 2020-03-29\n",
      "S1 2019-12-31\n",
      "S1 2020-01-01\n",
      "S1 2020-01-02\n",
      "S1 2020-01-03\n",
      "S1 2020-01-04\n",
      "S1 2020-01-05\n",
      "S1 2020-01-06\n",
      "S2 2020-03-24\n",
      "S2 2020-03-25\n",
      "S2 2020-03-26\n",
      "S2 2020-03-27\n",
      "S2 2020-03-28\n",
      "S2 2020-03-29\n"
     ]
    }
   ],
   "source": [
    "city2count = {}\n",
    "base_path = Path('../data/reddit_data_0418/ngrams/1grams/')\n",
    "for city in reddit2apple.keys():\n",
    "    first_window = []\n",
    "    second_window = []\n",
    "    for file in sorted(base_path.glob(f'{city}*/*')):\n",
    "        this_df = pd.DataFrame(pd.read_csv(file,sep='\\t',index_col=0)['count'])\n",
    "        this_df = this_df.loc[~this_df.index.duplicated(keep='first')]\n",
    "        #all_dfs.append(this_df)\n",
    "        if file.stem < '2020-01-07':\n",
    "            print(f'S1 {file.stem}')\n",
    "            first_window.append(this_df)\n",
    "            continue\n",
    "        if file.stem > '2020-03-23' and file.stem < '2020-03-30':\n",
    "            second_window.append(this_df)\n",
    "            print(f'S2 {file.stem}')\n",
    "            \n",
    "    city2count.update({city:(first_window,second_window)})\n",
    "            \n",
    "            \n",
    "        #break   "
   ]
  },
  {
   "cell_type": "code",
   "execution_count": 9,
   "metadata": {
    "ExecuteTime": {
     "end_time": "2020-05-04T19:42:49.733806Z",
     "start_time": "2020-05-04T19:42:49.727183Z"
    }
   },
   "outputs": [
    {
     "data": {
      "text/plain": [
       "1387.0"
      ]
     },
     "execution_count": 9,
     "metadata": {},
     "output_type": "execute_result"
    }
   ],
   "source": [
    "march.sort_values(ascending=False).loc['virus']"
   ]
  },
  {
   "cell_type": "markdown",
   "metadata": {},
   "source": [
    "# Rank Div "
   ]
  },
  {
   "cell_type": "code",
   "execution_count": 33,
   "metadata": {
    "ExecuteTime": {
     "end_time": "2020-05-04T21:19:04.946445Z",
     "start_time": "2020-05-04T21:18:46.857103Z"
    }
   },
   "outputs": [
    {
     "name": "stdout",
     "output_type": "stream",
     "text": [
      "NYC\n"
     ]
    },
    {
     "name": "stderr",
     "output_type": "stream",
     "text": [
      "/home/hereford/anaconda3/lib/python3.7/site-packages/ipykernel_launcher.py:4: FutureWarning: Sorting because non-concatenation axis is not aligned. A future version\n",
      "of pandas will change to not sort by default.\n",
      "\n",
      "To accept the future behavior, pass 'sort=False'.\n",
      "\n",
      "To retain the current behavior and silence the warning, pass 'sort=True'.\n",
      "\n",
      "  after removing the cwd from sys.path.\n",
      "/home/hereford/anaconda3/lib/python3.7/site-packages/ipykernel_launcher.py:5: FutureWarning: Sorting because non-concatenation axis is not aligned. A future version\n",
      "of pandas will change to not sort by default.\n",
      "\n",
      "To accept the future behavior, pass 'sort=False'.\n",
      "\n",
      "To retain the current behavior and silence the warning, pass 'sort=True'.\n",
      "\n",
      "  \"\"\"\n"
     ]
    },
    {
     "name": "stdout",
     "output_type": "stream",
     "text": [
      "maxes 16597.5 30934.5 \n",
      "LosAngeles\n",
      "maxes 14029.0 21211.0 \n",
      "Boston\n",
      "maxes 11798.5 16827.5 \n",
      "Chicago\n",
      "maxes 15083.0 17662.5 \n",
      "Atlanta\n",
      "maxes 10520.5 16052.0 \n"
     ]
    }
   ],
   "source": [
    "city2rd = {}\n",
    "for key,val in city2count.items():\n",
    "    print(key)\n",
    "    jan = new_df = pd.concat(val[0],axis=1).sum(axis=1)\n",
    "    march = new_df = pd.concat(val[1],axis=1).sum(axis=1)\n",
    "    \n",
    "    jan_zipf = WC(jan.to_dict())\n",
    "    jan_zipf.get_rank_dict()\n",
    "    \n",
    "    march_zipf = WC(march.to_dict())\n",
    "    march_zipf.get_rank_dict()\n",
    "    \n",
    "    RD = jan_zipf.get_rank_divergence(march_zipf,alpha=1/3)\n",
    "    \n",
    "    big_df = pd.DataFrame([RD]).T.sort_values(by = 0, ascending=False).head(1000)\n",
    "    \n",
    "    city2rd.update({key:big_df})"
   ]
  },
  {
   "cell_type": "code",
   "execution_count": 34,
   "metadata": {
    "ExecuteTime": {
     "end_time": "2020-05-04T21:19:25.233130Z",
     "start_time": "2020-05-04T21:19:25.218961Z"
    }
   },
   "outputs": [],
   "source": [
    "save_loc = Path('../data/reddit_data_0418/rank_div/')\n",
    "for key,val in city2rd.items():\n",
    "    val.to_csv(save_loc/f'{key}.tsv',sep='\\t',header=None)"
   ]
  },
  {
   "cell_type": "code",
   "execution_count": null,
   "metadata": {},
   "outputs": [],
   "source": []
  }
 ],
 "metadata": {
  "kernelspec": {
   "display_name": "Python 3",
   "language": "python",
   "name": "python3"
  },
  "language_info": {
   "codemirror_mode": {
    "name": "ipython",
    "version": 3
   },
   "file_extension": ".py",
   "mimetype": "text/x-python",
   "name": "python",
   "nbconvert_exporter": "python",
   "pygments_lexer": "ipython3",
   "version": "3.7.3"
  },
  "toc": {
   "base_numbering": 1,
   "nav_menu": {},
   "number_sections": true,
   "sideBar": true,
   "skip_h1_title": false,
   "title_cell": "Table of Contents",
   "title_sidebar": "Contents",
   "toc_cell": false,
   "toc_position": {},
   "toc_section_display": true,
   "toc_window_display": false
  }
 },
 "nbformat": 4,
 "nbformat_minor": 2
}
